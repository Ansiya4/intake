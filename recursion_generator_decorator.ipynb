{
 "cells": [
  {
   "cell_type": "markdown",
   "id": "a40b3cdb-0488-483b-aa77-2f9a1e1d6844",
   "metadata": {},
   "source": [
    "## Reucursion"
   ]
  },
  {
   "cell_type": "code",
   "execution_count": 5,
   "id": "907f8bcb-5ed9-41d6-bde7-10e7c77ea3b6",
   "metadata": {},
   "outputs": [
    {
     "name": "stdout",
     "output_type": "stream",
     "text": [
      "1\n",
      "2\n",
      "3\n",
      "4\n",
      "5\n",
      "6\n",
      "7\n",
      "8\n",
      "9\n",
      "10\n"
     ]
    }
   ],
   "source": [
    "def print_numbers(n):\n",
    "    if n > 0:\n",
    "        print_numbers(n - 1)\n",
    "        print(n)\n",
    "print_numbers(10)"
   ]
  },
  {
   "cell_type": "markdown",
   "id": "581196f2-9fa8-4706-a17b-2d8385c541bb",
   "metadata": {},
   "source": [
    "## Generators"
   ]
  },
  {
   "cell_type": "code",
   "execution_count": 54,
   "id": "e8a70200-1c35-4025-b0fd-69a0c46215e3",
   "metadata": {},
   "outputs": [
    {
     "name": "stdout",
     "output_type": "stream",
     "text": [
      "0\n",
      "1\n",
      "1\n",
      "2\n",
      "3\n",
      "5\n",
      "8\n",
      "13\n"
     ]
    }
   ],
   "source": [
    "def fibonacci(n):\n",
    "    a, b = 0, 1\n",
    "\n",
    "    while a < n:\n",
    "        yield a\n",
    "        a, b = b, a + b\n",
    "\n",
    "\n",
    "# Using the generator\n",
    "for num in fibonacci(15):\n",
    "    print(num)\n"
   ]
  },
  {
   "cell_type": "code",
   "execution_count": 55,
   "id": "ff8fc25c-4764-4789-8920-5888c6226d79",
   "metadata": {},
   "outputs": [
    {
     "name": "stdout",
     "output_type": "stream",
     "text": [
      "1\n",
      "4\n",
      "9\n",
      "16\n",
      "25\n"
     ]
    }
   ],
   "source": [
    "def squares(n):\n",
    "    for i in range(1, n+1):\n",
    "        yield i * i\n",
    "\n",
    "# Using the generator\n",
    "for num in squares(5):\n",
    "    print(num)\n"
   ]
  },
  {
   "cell_type": "code",
   "execution_count": 56,
   "id": "24760c8d-734a-465f-8cc0-1f5b3e053cc6",
   "metadata": {},
   "outputs": [
    {
     "name": "stdout",
     "output_type": "stream",
     "text": [
      "0\n",
      "2\n",
      "4\n",
      "6\n",
      "8\n"
     ]
    }
   ],
   "source": [
    "def my_generator(val):\n",
    "  for i in range(val):\n",
    "      if i % 2 == 0:\n",
    "        yield i\n",
    "      \n",
    "generator_object = my_generator(10)\n",
    "\n",
    "# Now iterate over the generator object\n",
    "for value in generator_object:\n",
    "  print(value)\n"
   ]
  },
  {
   "cell_type": "code",
   "execution_count": null,
   "id": "633391f5-d3a0-4e3e-a3ac-c253d0655e3e",
   "metadata": {},
   "outputs": [],
   "source": []
  },
  {
   "cell_type": "code",
   "execution_count": 57,
   "id": "257b7742-f43a-4ccc-879f-05ceaa16ba2e",
   "metadata": {},
   "outputs": [
    {
     "name": "stdout",
     "output_type": "stream",
     "text": [
      "120\n"
     ]
    }
   ],
   "source": [
    "def rec(n):\n",
    "    result=0\n",
    "    if n>1:\n",
    "        result=n*rec(n-1)\n",
    "    else:\n",
    "        return 1\n",
    "    return result\n",
    "print(rec(5))"
   ]
  },
  {
   "cell_type": "code",
   "execution_count": 58,
   "id": "f7c1080e-573f-4c54-8c7f-dfe8eb10174c",
   "metadata": {},
   "outputs": [
    {
     "name": "stdout",
     "output_type": "stream",
     "text": [
      "6\n"
     ]
    }
   ],
   "source": [
    "print(rec(3))"
   ]
  },
  {
   "cell_type": "code",
   "execution_count": 59,
   "id": "8be77274-9458-4bc7-b21d-85eec84816db",
   "metadata": {},
   "outputs": [
    {
     "name": "stdout",
     "output_type": "stream",
     "text": [
      "1\n",
      "2\n",
      "3\n",
      "4\n",
      "5\n"
     ]
    }
   ],
   "source": [
    "def nint(n):\n",
    "    if n >0:\n",
    "        nint(n-1)\n",
    "        print(n)\n",
    "nint(5)"
   ]
  },
  {
   "cell_type": "code",
   "execution_count": 47,
   "id": "15699f6d-3b6b-4a1c-8756-dfe923c1449a",
   "metadata": {},
   "outputs": [
    {
     "name": "stdout",
     "output_type": "stream",
     "text": [
      "1\n",
      "2\n",
      "3\n",
      "4\n",
      "5\n",
      "6\n",
      "7\n",
      "8\n",
      "9\n",
      "10\n"
     ]
    }
   ],
   "source": [
    "def print_numbers(n):\n",
    "    if n > 0:\n",
    "        print_numbers(n - 1)\n",
    "        print(n)\n",
    "\n",
    "print_numbers(10)"
   ]
  },
  {
   "cell_type": "markdown",
   "id": "d00a6bb0-36d8-403d-86b9-cb8e225790c2",
   "metadata": {},
   "source": [
    "## try except"
   ]
  },
  {
   "cell_type": "code",
   "execution_count": 76,
   "id": "ca40485a-0c10-411e-b6c3-430ecda90e09",
   "metadata": {},
   "outputs": [
    {
     "name": "stdout",
     "output_type": "stream",
     "text": [
      "not possible\n",
      "complted\n",
      "None\n"
     ]
    }
   ],
   "source": [
    "def div(a,b):\n",
    "    try:\n",
    "        return a/b        \n",
    "    except:    \n",
    "        return print('not possible')\n",
    "    finally:\n",
    "        print('complted')\n",
    "print(div(1,0))    "
   ]
  },
  {
   "cell_type": "markdown",
   "id": "17faf644-b12d-4cf3-a55b-e8a9195b67c4",
   "metadata": {},
   "source": [
    "## decorators"
   ]
  },
  {
   "cell_type": "code",
   "execution_count": 4,
   "id": "cb964c21-cf2c-4359-83dd-107a85790a86",
   "metadata": {},
   "outputs": [],
   "source": [
    "def modify_addi(func):\n",
    "    def wrapper(a,b):\n",
    "        c=a+b\n",
    "        result=func(c)\n",
    "        return result\n",
    "    return wrapper\n",
    "@modify_addi\n",
    "def addi(a):\n",
    "   print(a*5)\n",
    "        "
   ]
  },
  {
   "cell_type": "code",
   "execution_count": 98,
   "id": "a9e95534-fdee-4536-b440-5b45f4ec34a2",
   "metadata": {},
   "outputs": [],
   "source": [
    "tu=1,2,3,4"
   ]
  },
  {
   "cell_type": "code",
   "execution_count": 99,
   "id": "a6868207-e323-4f1b-b865-06d198272eb4",
   "metadata": {},
   "outputs": [
    {
     "data": {
      "text/plain": [
       "(1, 2, 3, 4)"
      ]
     },
     "execution_count": 99,
     "metadata": {},
     "output_type": "execute_result"
    }
   ],
   "source": [
    "tu"
   ]
  },
  {
   "cell_type": "code",
   "execution_count": 101,
   "id": "3f1ade39-e75f-4204-bf99-60039221926c",
   "metadata": {},
   "outputs": [],
   "source": [
    "a,*b=tu"
   ]
  },
  {
   "cell_type": "code",
   "execution_count": 102,
   "id": "0276bfcc-4159-47e6-b0ec-4c774d1bc7b1",
   "metadata": {},
   "outputs": [
    {
     "data": {
      "text/plain": [
       "[2, 3, 4]"
      ]
     },
     "execution_count": 102,
     "metadata": {},
     "output_type": "execute_result"
    }
   ],
   "source": [
    "b"
   ]
  },
  {
   "cell_type": "code",
   "execution_count": 103,
   "id": "7130b5e1-b005-4635-be7c-bd0224064c42",
   "metadata": {},
   "outputs": [
    {
     "data": {
      "text/plain": [
       "1"
      ]
     },
     "execution_count": 103,
     "metadata": {},
     "output_type": "execute_result"
    }
   ],
   "source": [
    "a"
   ]
  },
  {
   "cell_type": "code",
   "execution_count": 107,
   "id": "3af6a3ab-6246-419b-818c-9f3af067c43b",
   "metadata": {},
   "outputs": [
    {
     "name": "stdout",
     "output_type": "stream",
     "text": [
      "0\n",
      "1\n",
      "2\n",
      "3\n",
      "4\n",
      "5\n",
      "6\n",
      "7\n",
      "8\n",
      "9\n",
      "10\n",
      "11\n",
      "12\n",
      "13\n",
      "14\n"
     ]
    }
   ],
   "source": [
    "def gen(n):\n",
    "    k=0\n",
    "    while n>k:\n",
    "        yield k\n",
    "        k=k+1\n",
    "for i in gen(15):\n",
    "    print(i)"
   ]
  },
  {
   "cell_type": "code",
   "execution_count": null,
   "id": "ef7ce962-17bc-4870-bdf5-05a507f954f8",
   "metadata": {},
   "outputs": [],
   "source": []
  }
 ],
 "metadata": {
  "kernelspec": {
   "display_name": "Python 3 (ipykernel)",
   "language": "python",
   "name": "python3"
  },
  "language_info": {
   "codemirror_mode": {
    "name": "ipython",
    "version": 3
   },
   "file_extension": ".py",
   "mimetype": "text/x-python",
   "name": "python",
   "nbconvert_exporter": "python",
   "pygments_lexer": "ipython3",
   "version": "3.10.10"
  }
 },
 "nbformat": 4,
 "nbformat_minor": 5
}
