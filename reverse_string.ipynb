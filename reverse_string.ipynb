{
 "cells": [
  {
   "cell_type": "code",
   "execution_count": 3,
   "id": "5e8ea471-2ee4-4e19-b49e-8b74ea8af7f0",
   "metadata": {},
   "outputs": [
    {
     "name": "stdout",
     "output_type": "stream",
     "text": [
      "Original String: ansiya abdul razak\n",
      "Reversed String: kazar ludba ayisna\n"
     ]
    }
   ],
   "source": [
    "def reverse_string(s):\n",
    "    # Base case: if the string is empty or has only one character\n",
    "    if len(s) <= 1:\n",
    "        return s\n",
    "    else:\n",
    "        # Recursive case: return the last character concatenated with the reversed substring\n",
    "        if s[0] == ' ':\n",
    "            return ' ' + reverse_string(s[1:]) + ' '\n",
    "        else:\n",
    "            return s[-1] + reverse_string(s[:-1])\n",
    "\n",
    "# Test the function\n",
    "original_string = \"ansiya abdul razak\"\n",
    "reversed_string = reverse_string(original_string)\n",
    "print(\"Original String:\", original_string)\n",
    "print(\"Reversed String:\", reversed_string)\n"
   ]
  },
  {
   "cell_type": "code",
   "execution_count": null,
   "id": "8d243526-9a7f-40be-8cb0-988dd9ae4402",
   "metadata": {},
   "outputs": [],
   "source": []
  }
 ],
 "metadata": {
  "kernelspec": {
   "display_name": "Python 3 (ipykernel)",
   "language": "python",
   "name": "python3"
  },
  "language_info": {
   "codemirror_mode": {
    "name": "ipython",
    "version": 3
   },
   "file_extension": ".py",
   "mimetype": "text/x-python",
   "name": "python",
   "nbconvert_exporter": "python",
   "pygments_lexer": "ipython3",
   "version": "3.10.10"
  }
 },
 "nbformat": 4,
 "nbformat_minor": 5
}
