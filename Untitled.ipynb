{
 "cells": [
  {
   "cell_type": "code",
   "execution_count": 2,
   "id": "49f649c2-5279-44b2-b9c2-0bf2c83f8ec1",
   "metadata": {},
   "outputs": [
    {
     "name": "stdout",
     "output_type": "stream",
     "text": [
      "0\n",
      "1\n",
      "1\n",
      "2\n",
      "3\n",
      "5\n",
      "8\n"
     ]
    }
   ],
   "source": [
    "def display(n):\n",
    "    a=0\n",
    "    b=1\n",
    "    while a < n:\n",
    "        yield a\n",
    "        a,b=b,a+b\n",
    "for i in display(10):\n",
    "    print(i)"
   ]
  },
  {
   "cell_type": "code",
   "execution_count": 221,
   "id": "b850b4d4-c186-49eb-9f93-de870f475843",
   "metadata": {},
   "outputs": [
    {
     "name": "stdout",
     "output_type": "stream",
     "text": [
      "10\n"
     ]
    }
   ],
   "source": [
    "def deco_add(func):\n",
    "    def wrapper(a,b):\n",
    "        return func(a+b)\n",
    "    return wrapper\n",
    "\n",
    "@deco_add\n",
    "def add(a):\n",
    "    print(5+a)\n",
    "\n",
    "add(2,3)"
   ]
  },
  {
   "cell_type": "code",
   "execution_count": 222,
   "id": "9668ca74-805d-49f5-a72b-0203c1e91a7f",
   "metadata": {},
   "outputs": [
    {
     "name": "stdout",
     "output_type": "stream",
     "text": [
      "1\n",
      "2\n",
      "3\n",
      "4\n",
      "5\n",
      "6\n",
      "7\n",
      "8\n",
      "9\n",
      "10\n"
     ]
    }
   ],
   "source": [
    "def dis(n):\n",
    "    if n>0:\n",
    "        dis(n-1)\n",
    "        print(n)\n",
    "dis(10)"
   ]
  },
  {
   "cell_type": "code",
   "execution_count": 326,
   "id": "d3a4a885-2ea0-486e-84cd-4b5ec9238ee9",
   "metadata": {},
   "outputs": [],
   "source": [
    "class a:\n",
    "    x=10\n",
    "    @staticmethod\n",
    "    def dis_static(c,d):\n",
    "        \n",
    "        print(\"static:\",a.x)\n",
    "        print(c+d)"
   ]
  },
  {
   "cell_type": "code",
   "execution_count": 328,
   "id": "c16e5334-830f-429e-8f3c-818dc3755c02",
   "metadata": {},
   "outputs": [
    {
     "name": "stdout",
     "output_type": "stream",
     "text": [
      "static: 20\n",
      "30\n"
     ]
    }
   ],
   "source": [
    "obj=a()\n",
    "a.x=20\n",
    "obj.dis_static(10,20)"
   ]
  },
  {
   "cell_type": "code",
   "execution_count": 329,
   "id": "2f6d6f84-f570-4e3c-9dc8-5d7cb308fb47",
   "metadata": {},
   "outputs": [
    {
     "data": {
      "text/plain": [
       "20"
      ]
     },
     "execution_count": 329,
     "metadata": {},
     "output_type": "execute_result"
    }
   ],
   "source": [
    "obj1=a()\n",
    "a.x"
   ]
  },
  {
   "cell_type": "code",
   "execution_count": 285,
   "id": "8535ffbf-021a-4ef7-9e23-08a5d60858ed",
   "metadata": {},
   "outputs": [],
   "source": [
    "class a:\n",
    "    def __init__(self,a,b):\n",
    "        self.a=a\n",
    "        self.b=b\n",
    "    x=10\n",
    "\n",
    "    def dis_class(self):\n",
    "        print(\"class:\",self.a)\n"
   ]
  },
  {
   "cell_type": "code",
   "execution_count": 286,
   "id": "1fcdd961-665c-438f-b3e4-af82a7c35df0",
   "metadata": {},
   "outputs": [
    {
     "name": "stdout",
     "output_type": "stream",
     "text": [
      "class: 100\n"
     ]
    }
   ],
   "source": [
    "obj=a(100,200)\n",
    "obj.dis_class()"
   ]
  },
  {
   "cell_type": "code",
   "execution_count": 308,
   "id": "66ecc54e-a5b8-49cd-b5ff-524ba8976693",
   "metadata": {},
   "outputs": [
    {
     "name": "stdout",
     "output_type": "stream",
     "text": [
      "Class attribute: 0\n"
     ]
    }
   ],
   "source": [
    "class MyClass:\n",
    "    class_attr = 0\n",
    "\n",
    "    def __init__(self, instance_attr):\n",
    "        self.instance_attr = instance_attr\n",
    "\n",
    "    @classmethod\n",
    "    def class_method(cls):\n",
    "        print(\"Class attribute:\", cls.class_attr)\n",
    "        # Trying to access instance attribute\n",
    "        # This will raise an AttributeError\n",
    "        # print(\"Instance attribute:\", cls.instance_attr)\n",
    "\n",
    "# Create an instance of MyClass\n",
    "obj = MyClass(10)\n",
    "\n",
    "# Call the class method\n",
    "MyClass.class_method()\n"
   ]
  },
  {
   "cell_type": "code",
   "execution_count": 310,
   "id": "5db717e7-9075-4de1-b61e-4cecbe04bed3",
   "metadata": {},
   "outputs": [
    {
     "name": "stdout",
     "output_type": "stream",
     "text": [
      "100\n"
     ]
    }
   ],
   "source": [
    "class a:\n",
    "    x=10\n",
    "    def edi(val):\n",
    "        a.x=val\n",
    "        print(a.x)\n",
    "a.edi(100)"
   ]
  },
  {
   "cell_type": "code",
   "execution_count": 339,
   "id": "ef706783-595a-4868-bae9-8843a7bd0d95",
   "metadata": {},
   "outputs": [
    {
     "name": "stdout",
     "output_type": "stream",
     "text": [
      "100\n"
     ]
    },
    {
     "data": {
      "text/plain": [
       "10"
      ]
     },
     "execution_count": 339,
     "metadata": {},
     "output_type": "execute_result"
    }
   ],
   "source": [
    "class a:\n",
    "    x=10\n",
    " \n",
    "    def edi(cls,val):\n",
    "        cls.x=val\n",
    "        print(cls.x)\n",
    "\n",
    "o=a()\n",
    "o.edi(100)\n",
    "a.x"
   ]
  },
  {
   "cell_type": "code",
   "execution_count": 345,
   "id": "ecf03fa7-86d8-48a2-8abb-cb20b7ad5ca6",
   "metadata": {},
   "outputs": [],
   "source": [
    "class a:\n",
    "    x = 10\n",
    "\n",
    "    def edi(cls, val):\n",
    "        cls.x = val\n",
    "        print(cls.x)\n",
    "\n",
    "a.x=1000\n",
    "o=a()"
   ]
  },
  {
   "cell_type": "code",
   "execution_count": 346,
   "id": "7ed2b928-e92a-49f1-840c-3de859b44c73",
   "metadata": {},
   "outputs": [
    {
     "name": "stdout",
     "output_type": "stream",
     "text": [
      "2000\n"
     ]
    }
   ],
   "source": [
    "o.edi(2000)"
   ]
  },
  {
   "cell_type": "code",
   "execution_count": 347,
   "id": "9e1446b4-b9af-4ded-a6aa-7d4259b719a9",
   "metadata": {},
   "outputs": [
    {
     "data": {
      "text/plain": [
       "1000"
      ]
     },
     "execution_count": 347,
     "metadata": {},
     "output_type": "execute_result"
    }
   ],
   "source": [
    "a.x"
   ]
  },
  {
   "cell_type": "code",
   "execution_count": 349,
   "id": "fbfdd655-9381-499b-a27a-0c5a2c67d9e6",
   "metadata": {},
   "outputs": [],
   "source": [
    "from sklearn.datasets import load_breast_cancer"
   ]
  },
  {
   "cell_type": "code",
   "execution_count": null,
   "id": "5387ec3a-b8f7-4512-9f84-81d3155996b0",
   "metadata": {},
   "outputs": [],
   "source": []
  }
 ],
 "metadata": {
  "kernelspec": {
   "display_name": "Python 3 (ipykernel)",
   "language": "python",
   "name": "python3"
  },
  "language_info": {
   "codemirror_mode": {
    "name": "ipython",
    "version": 3
   },
   "file_extension": ".py",
   "mimetype": "text/x-python",
   "name": "python",
   "nbconvert_exporter": "python",
   "pygments_lexer": "ipython3",
   "version": "3.10.10"
  }
 },
 "nbformat": 4,
 "nbformat_minor": 5
}
