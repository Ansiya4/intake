{
 "cells": [
  {
   "cell_type": "code",
   "execution_count": 1,
   "id": "90062e8c-671b-41fd-8a66-88b8bcf298bf",
   "metadata": {},
   "outputs": [
    {
     "name": "stdout",
     "output_type": "stream",
     "text": [
      "Correlation coefficient: 0.9999999999999998\n"
     ]
    }
   ],
   "source": [
    "# Sample data\n",
    "X = [1, 2, 3, 4, 5]\n",
    "Y = [2, 4, 6, 8, 10]\n",
    "\n",
    "# Calculate means\n",
    "mean_X = sum(X) / len(X)\n",
    "mean_Y = sum(Y) / len(Y)\n",
    "\n",
    "# Calculate numerator (covariance)\n",
    "numerator = sum((x - mean_X) * (y - mean_Y) for x, y in zip(X, Y))\n",
    "\n",
    "# Calculate denominator (standard deviations)\n",
    "std_dev_X = (sum((x - mean_X) ** 2 for x in X) / len(X)) ** 0.5\n",
    "std_dev_Y = (sum((y - mean_Y) ** 2 for y in Y) / len(Y)) ** 0.5\n",
    "\n",
    "# Calculate correlation coefficient\n",
    "correlation_coefficient = numerator / (len(X) * std_dev_X * std_dev_Y)\n",
    "\n",
    "print(\"Correlation coefficient:\", correlation_coefficient)\n"
   ]
  },
  {
   "cell_type": "code",
   "execution_count": 3,
   "id": "184e98ec-9c53-49d0-80c9-368ae3ed5ec7",
   "metadata": {},
   "outputs": [],
   "source": [
    "a=zip(X,Y)"
   ]
  },
  {
   "cell_type": "code",
   "execution_count": null,
   "id": "15d2a2cd-d8e4-4b9b-b8ce-e4acabc7dc48",
   "metadata": {},
   "outputs": [],
   "source": []
  }
 ],
 "metadata": {
  "kernelspec": {
   "display_name": "Python 3 (ipykernel)",
   "language": "python",
   "name": "python3"
  },
  "language_info": {
   "codemirror_mode": {
    "name": "ipython",
    "version": 3
   },
   "file_extension": ".py",
   "mimetype": "text/x-python",
   "name": "python",
   "nbconvert_exporter": "python",
   "pygments_lexer": "ipython3",
   "version": "3.10.10"
  }
 },
 "nbformat": 4,
 "nbformat_minor": 5
}
