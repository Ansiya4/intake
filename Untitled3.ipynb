{
 "cells": [
  {
   "cell_type": "code",
   "execution_count": 1,
   "id": "431dabe0-c8db-4370-b339-9f8a5fe6bbd8",
   "metadata": {},
   "outputs": [
    {
     "name": "stdout",
     "output_type": "stream",
     "text": [
      "This is a protected method\n"
     ]
    }
   ],
   "source": [
    "class Parent:\n",
    "    def _protected_method(self):\n",
    "        print(\"This is a protected method\")\n",
    "\n",
    "class Child(Parent):\n",
    "    def __init__(self):\n",
    "        super().__init__()\n",
    "        self._protected_method()  # Accessing protected method\n",
    "\n",
    "child = Child()  # Output: \"This is a protected method\"\n"
   ]
  },
  {
   "cell_type": "code",
   "execution_count": 16,
   "id": "1833b3f8-5d40-45e9-abb2-1e40ba7b3210",
   "metadata": {},
   "outputs": [
    {
     "data": {
      "text/plain": [
       "10"
      ]
     },
     "execution_count": 16,
     "metadata": {},
     "output_type": "execute_result"
    }
   ],
   "source": [
    "class Parent:\n",
    "    def __init__(self):\n",
    "        self._protected_attribute = 10\n",
    "\n",
    "\n",
    "class Child(Parent):\n",
    "    def __init__(self):\n",
    "        super().__init__()  # This line calls the __init__ method of the Parent class\n",
    "        print(self._protected_attribute)  # Accessing protected attribute\n",
    "\n",
    "child = Parent()  # Output: 10\n",
    "\n"
   ]
  },
  {
   "cell_type": "code",
   "execution_count": 6,
   "id": "15889c9b-6490-41e6-a11b-24ddc7024f9a",
   "metadata": {},
   "outputs": [
    {
     "ename": "AttributeError",
     "evalue": "'MyClass' object has no attribute '__private_attribute'",
     "output_type": "error",
     "traceback": [
      "\u001b[1;31m---------------------------------------------------------------------------\u001b[0m",
      "\u001b[1;31mAttributeError\u001b[0m                            Traceback (most recent call last)",
      "Cell \u001b[1;32mIn[6], line 11\u001b[0m\n\u001b[0;32m      8\u001b[0m obj \u001b[38;5;241m=\u001b[39m MyClass()\n\u001b[0;32m     10\u001b[0m \u001b[38;5;66;03m# Attempting to access private attribute and method from outside the class\u001b[39;00m\n\u001b[1;32m---> 11\u001b[0m \u001b[38;5;28mprint\u001b[39m(\u001b[43mobj\u001b[49m\u001b[38;5;241;43m.\u001b[39;49m\u001b[43m__private_attribute\u001b[49m)  \u001b[38;5;66;03m# Raises an AttributeError\u001b[39;00m\n\u001b[0;32m     12\u001b[0m obj\u001b[38;5;241m.\u001b[39m__private_method()  \u001b[38;5;66;03m# Raises an AttributeError\u001b[39;00m\n",
      "\u001b[1;31mAttributeError\u001b[0m: 'MyClass' object has no attribute '__private_attribute'"
     ]
    }
   ],
   "source": [
    "class MyClass:\n",
    "    def __init__(self):\n",
    "        self.__private_attribute = 10\n",
    "\n",
    "    def __private_method(self):\n",
    "        print(\"This is a private method\")\n",
    "\n",
    "obj = MyClass()\n",
    "\n",
    "# Attempting to access private attribute and method from outside the class\n",
    "print(obj.__private_attribute)  # Raises an AttributeError\n",
    "obj.__private_method()  # Raises an AttributeError\n"
   ]
  },
  {
   "cell_type": "code",
   "execution_count": 7,
   "id": "e733e005-cda3-43ad-ba93-5d796d2a54cc",
   "metadata": {},
   "outputs": [
    {
     "name": "stdout",
     "output_type": "stream",
     "text": [
      "10\n",
      "This is a private method\n"
     ]
    }
   ],
   "source": [
    "# Accessing private attribute using name mangling\n",
    "print(obj._MyClass__private_attribute)  # Prints 10\n",
    "\n",
    "# Accessing private method using name mangling\n",
    "obj._MyClass__private_method()  # Prints \"This is a private method\""
   ]
  },
  {
   "cell_type": "code",
   "execution_count": 12,
   "id": "293a1b93-9147-48a1-9a3f-89b5a772ec11",
   "metadata": {},
   "outputs": [
    {
     "name": "stdout",
     "output_type": "stream",
     "text": [
      "possible\n",
      "Resulting Matrix C:\n",
      "[[ 29  32  35  38]\n",
      " [ 65  72  79  86]\n",
      " [101 112 123 134]]\n"
     ]
    }
   ],
   "source": [
    "import numpy as np\n",
    "\n",
    "# Define the matrices A and B\n",
    "a = np.array([[1, 2],\n",
    "              [3, 4],\n",
    "              [5, 6]])\n",
    "\n",
    "b = np.array([[7, 8, 9, 10],\n",
    "              [11, 12, 13, 14]])\n",
    "if a.shape[1]==b.shape[0]:\n",
    "    print('possible')\n",
    "    \n",
    "# Perform matrix multiplication\n",
    "C = np.dot(A,B)\n",
    "\n",
    "# Print the resulting matrix C\n",
    "print(\"Resulting Matrix C:\")\n",
    "print(C)\n"
   ]
  },
  {
   "cell_type": "code",
   "execution_count": 9,
   "id": "9d8bac10-2f30-4a9d-b7ea-7ba3a78e0fea",
   "metadata": {},
   "outputs": [
    {
     "data": {
      "text/plain": [
       "(3, 2)"
      ]
     },
     "execution_count": 9,
     "metadata": {},
     "output_type": "execute_result"
    }
   ],
   "source": [
    "A.shape"
   ]
  },
  {
   "cell_type": "code",
   "execution_count": 15,
   "id": "ea6317b9-3624-4ff2-b842-c367eb708193",
   "metadata": {},
   "outputs": [
    {
     "name": "stdout",
     "output_type": "stream",
     "text": [
      "Resulting Matrix:\n",
      "[5, 5]\n",
      "[4, 4]\n"
     ]
    }
   ],
   "source": [
    "# Define the matrices m and n\n",
    "m = [[1, 2],\n",
    "     [1, 1]]\n",
    "\n",
    "n = [[1, 1],\n",
    "     [1, 1]]\n",
    "\n",
    "# Initialize a result matrix with zeros\n",
    "result = [[0, 0],\n",
    "          [0, 0]]\n",
    "\n",
    "# Perform matrix multiplication\n",
    "# Iterate through the rows of the first matrix\n",
    "for i in range(len(m)):\n",
    "    # Iterate through the columns of the second matrix\n",
    "    for j in range(len(n[0])):\n",
    "        # Iterate through the rows of the second matrix\n",
    "        for k in range(len(n)):\n",
    "            # Multiply corresponding elements and add to the result\n",
    "            result[i][j] += m[i][k] * n[k][j]\n",
    "\n",
    "# Print the resulting matrix\n",
    "print(\"Resulting Matrix:\")\n",
    "for row in result:\n",
    "    print(row)\n"
   ]
  },
  {
   "cell_type": "code",
   "execution_count": null,
   "id": "0d23b1a8-e7d3-4e72-8b2f-2ace0341fc5f",
   "metadata": {},
   "outputs": [],
   "source": []
  }
 ],
 "metadata": {
  "kernelspec": {
   "display_name": "Python 3 (ipykernel)",
   "language": "python",
   "name": "python3"
  },
  "language_info": {
   "codemirror_mode": {
    "name": "ipython",
    "version": 3
   },
   "file_extension": ".py",
   "mimetype": "text/x-python",
   "name": "python",
   "nbconvert_exporter": "python",
   "pygments_lexer": "ipython3",
   "version": "3.10.10"
  }
 },
 "nbformat": 4,
 "nbformat_minor": 5
}
