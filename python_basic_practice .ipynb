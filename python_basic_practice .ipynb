{
 "cells": [
  {
   "cell_type": "code",
   "execution_count": 15,
   "id": "b389f03b-8c0c-4717-92d8-24e5695e93f0",
   "metadata": {},
   "outputs": [
    {
     "name": "stdout",
     "output_type": "stream",
     "text": [
      "{'a': 1, 'b': 2, 'c': 3, 'd': 4}\n"
     ]
    }
   ],
   "source": [
    "t = {\n",
    "    'a': 1,\n",
    "    'b': 2,\n",
    "    'c': 3,\n",
    "    'd': 4\n",
    "}\n",
    "print(t)"
   ]
  },
  {
   "cell_type": "code",
   "execution_count": 4,
   "id": "97e4f259-d728-458b-9dfb-e8f2a3640fcb",
   "metadata": {},
   "outputs": [
    {
     "data": {
      "text/plain": [
       "dict_keys(['a', 'b', 'c', 'd'])"
      ]
     },
     "execution_count": 4,
     "metadata": {},
     "output_type": "execute_result"
    }
   ],
   "source": [
    "t.keys()"
   ]
  },
  {
   "cell_type": "code",
   "execution_count": 6,
   "id": "3f73831d-477a-48bd-9927-ea48d384e394",
   "metadata": {},
   "outputs": [
    {
     "data": {
      "text/plain": [
       "1"
      ]
     },
     "execution_count": 6,
     "metadata": {},
     "output_type": "execute_result"
    }
   ],
   "source": [
    "t['a']"
   ]
  },
  {
   "cell_type": "code",
   "execution_count": 9,
   "id": "23da7c85-1dd1-4c3b-bece-29f669572c17",
   "metadata": {},
   "outputs": [
    {
     "name": "stdout",
     "output_type": "stream",
     "text": [
      "b\n"
     ]
    }
   ],
   "source": [
    "for key, val in t.items():\n",
    "    if val==2:\n",
    "        print(key)"
   ]
  },
  {
   "cell_type": "code",
   "execution_count": 10,
   "id": "6b702d9b-7a61-4529-af5a-36f43f2ad8e3",
   "metadata": {},
   "outputs": [
    {
     "data": {
      "text/plain": [
       "dict_items([('a', 1), ('b', 2), ('c', 3), ('d', 4)])"
      ]
     },
     "execution_count": 10,
     "metadata": {},
     "output_type": "execute_result"
    }
   ],
   "source": [
    "t.items()"
   ]
  },
  {
   "cell_type": "code",
   "execution_count": 11,
   "id": "003e07dd-548f-4ac1-b6a0-ae9ad7e0ac44",
   "metadata": {},
   "outputs": [],
   "source": [
    "st='hello world'"
   ]
  },
  {
   "cell_type": "code",
   "execution_count": 14,
   "id": "dbdf6d2c-67b6-456a-a0d2-497c55577390",
   "metadata": {},
   "outputs": [
    {
     "name": "stdout",
     "output_type": "stream",
     "text": [
      "['hello', 'world']\n"
     ]
    }
   ],
   "source": [
    "print(st.split())"
   ]
  },
  {
   "cell_type": "code",
   "execution_count": 16,
   "id": "8d42ecb2-ee29-48e7-b211-e7a43b0117a9",
   "metadata": {},
   "outputs": [
    {
     "name": "stdout",
     "output_type": "stream",
     "text": [
      "helloworld\n"
     ]
    }
   ],
   "source": [
    "print(''.join(st.split()))"
   ]
  },
  {
   "cell_type": "code",
   "execution_count": 17,
   "id": "eba57c00-3e49-4bdf-930b-b71677d17915",
   "metadata": {},
   "outputs": [],
   "source": [
    "li=[1,2,3,'a','b','c',1.1,1.2,1.3]"
   ]
  },
  {
   "cell_type": "code",
   "execution_count": 21,
   "id": "83e523e6-8bf4-4ee6-bb86-15a1bdfe5090",
   "metadata": {},
   "outputs": [],
   "source": [
    "sp = [i for i in li if type(i) == str]"
   ]
  },
  {
   "cell_type": "code",
   "execution_count": 22,
   "id": "5ed03929-65ef-41d5-8c41-1ce650dc1271",
   "metadata": {},
   "outputs": [
    {
     "data": {
      "text/plain": [
       "['a', 'b', 'c']"
      ]
     },
     "execution_count": 22,
     "metadata": {},
     "output_type": "execute_result"
    }
   ],
   "source": [
    "sp"
   ]
  },
  {
   "cell_type": "code",
   "execution_count": 1,
   "id": "5fb0c266-062e-44cf-a00d-3b0a1cee259c",
   "metadata": {},
   "outputs": [],
   "source": [
    "li=[1,2,3,'a','b','c',1.1,1.2,1.3]"
   ]
  },
  {
   "cell_type": "code",
   "execution_count": 15,
   "id": "6dc8524c-a130-4dfd-8de2-ed338f1a6c0c",
   "metadata": {},
   "outputs": [
    {
     "data": {
      "text/plain": [
       "['a', 'b', 'c']"
      ]
     },
     "execution_count": 15,
     "metadata": {},
     "output_type": "execute_result"
    }
   ],
   "source": [
    "[i for i in li if isinstance(i,str)]"
   ]
  },
  {
   "cell_type": "code",
   "execution_count": 16,
   "id": "38f5b2df-3373-4efe-b30e-b5abff50cfa6",
   "metadata": {},
   "outputs": [
    {
     "data": {
      "text/plain": [
       "[1, 2, 3]"
      ]
     },
     "execution_count": 16,
     "metadata": {},
     "output_type": "execute_result"
    }
   ],
   "source": [
    "[i for i in li if isinstance(i,int)]"
   ]
  },
  {
   "cell_type": "code",
   "execution_count": 17,
   "id": "6cdc38f9-19fa-41aa-ae16-b5e5e525c712",
   "metadata": {},
   "outputs": [
    {
     "data": {
      "text/plain": [
       "[1.1, 1.2, 1.3]"
      ]
     },
     "execution_count": 17,
     "metadata": {},
     "output_type": "execute_result"
    }
   ],
   "source": [
    "[i for i in li if isinstance(i,float)]"
   ]
  },
  {
   "cell_type": "code",
   "execution_count": 10,
   "id": "3c4ecb25-459b-42c6-9bfb-cf35e2031314",
   "metadata": {},
   "outputs": [],
   "source": [
    "sh=[[i for i in li if isinstance(i,dt)] for dt in (str,int,float)]"
   ]
  },
  {
   "cell_type": "code",
   "execution_count": 11,
   "id": "00ed6491-068b-47f5-882c-39a22b81e64f",
   "metadata": {},
   "outputs": [
    {
     "data": {
      "text/plain": [
       "[['a', 'b', 'c'], [1, 2, 3], [1.1, 1.2, 1.3]]"
      ]
     },
     "execution_count": 11,
     "metadata": {},
     "output_type": "execute_result"
    }
   ],
   "source": [
    "sh"
   ]
  },
  {
   "cell_type": "code",
   "execution_count": 2,
   "id": "94af05fc-4667-4b5d-84d7-4636df168f72",
   "metadata": {},
   "outputs": [],
   "source": [
    "# Define a function\n",
    "def square(x):\n",
    "    return x ** 2\n",
    "\n",
    "# Create a list of numbers\n",
    "numbers = [1, 2, 3, 4, 5]\n",
    "\n",
    "# Apply the square function to each element of the list using map\n",
    "squ= map(square, numbers)"
   ]
  },
  {
   "cell_type": "code",
   "execution_count": 4,
   "id": "ba3f228d-5b42-4e77-94a6-a924946fdc57",
   "metadata": {},
   "outputs": [
    {
     "data": {
      "text/plain": [
       "[1, 4, 9, 16, 25]"
      ]
     },
     "execution_count": 4,
     "metadata": {},
     "output_type": "execute_result"
    }
   ],
   "source": [
    "list(squ)"
   ]
  },
  {
   "cell_type": "code",
   "execution_count": 5,
   "id": "ae586068-9349-4f11-84fe-471caa147f16",
   "metadata": {},
   "outputs": [
    {
     "name": "stdout",
     "output_type": "stream",
     "text": [
      "Initializing an instance of EmptyClass\n"
     ]
    }
   ],
   "source": [
    "class EmptyClass:\n",
    "    def __init__(self):\n",
    "        print(\"Initializing an instance of EmptyClass\")\n",
    "\n",
    "obj = EmptyClass()  # This will print \"Initializing an instance of EmptyClass\"\n"
   ]
  },
  {
   "cell_type": "code",
   "execution_count": 9,
   "id": "31eeac60-0bde-451a-88a6-7d3b743d6e6d",
   "metadata": {},
   "outputs": [],
   "source": [
    "class a:\n",
    "    pass"
   ]
  },
  {
   "cell_type": "code",
   "execution_count": 10,
   "id": "a610320a-368e-4e25-9f9d-72afa56b8635",
   "metadata": {},
   "outputs": [
    {
     "data": {
      "text/plain": [
       "<__main__.a at 0x1453580aef0>"
      ]
     },
     "execution_count": 10,
     "metadata": {},
     "output_type": "execute_result"
    }
   ],
   "source": [
    "a()"
   ]
  },
  {
   "cell_type": "code",
   "execution_count": 7,
   "id": "0c100d75-6302-4f9a-b8c7-8bf397689878",
   "metadata": {},
   "outputs": [],
   "source": [
    "class b:\n",
    "    pass"
   ]
  },
  {
   "cell_type": "markdown",
   "id": "ba2d23a2-4196-46a1-a204-71eada4e23c9",
   "metadata": {},
   "source": [
    "# multiple inheritance"
   ]
  },
  {
   "cell_type": "code",
   "execution_count": 13,
   "id": "2244a6ee-ae78-44bd-8f40-b03e957faf63",
   "metadata": {},
   "outputs": [],
   "source": [
    "class vehicle:\n",
    "    def usage(self):\n",
    "        print(\"for travelling\")\n",
    "class car(vehicle):\n",
    "    def special_usage(self):\n",
    "        print('travel to office')\n",
    "class motor_cycle(vehicle):\n",
    "    def special_usage(self):\n",
    "        print('trip')"
   ]
  },
  {
   "cell_type": "code",
   "execution_count": 14,
   "id": "90899f28-b54f-4e09-bd12-ee9bf1ac9f1b",
   "metadata": {},
   "outputs": [
    {
     "name": "stdout",
     "output_type": "stream",
     "text": [
      "for travelling\n",
      "travel to office\n"
     ]
    }
   ],
   "source": [
    "c=car()\n",
    "c.usage()\n",
    "c.special_usage()"
   ]
  },
  {
   "cell_type": "code",
   "execution_count": 26,
   "id": "8a6922b1-b668-4f0f-9cf7-10d25ac1aa59",
   "metadata": {},
   "outputs": [
    {
     "name": "stdout",
     "output_type": "stream",
     "text": [
      "cooking\n",
      "dancing\n"
     ]
    }
   ],
   "source": [
    "class father():\n",
    "    def skills(self):\n",
    "        print(\"programming\")\n",
    "class mother():\n",
    "    def skills(self):\n",
    "        print(\"cooking\")\n",
    "class daughter(mother,father):\n",
    "    def skills(self):\n",
    "        # mother.skills(self)\n",
    "        # father.skills(self)\n",
    "        super().skills()\n",
    "        print(\"dancing\")\n",
    "d=daughter()\n",
    "d.skills()\n"
   ]
  },
  {
   "cell_type": "code",
   "execution_count": 28,
   "id": "ec55eff5-5dee-4b4b-82f3-d5eac224f7c5",
   "metadata": {},
   "outputs": [
    {
     "name": "stdout",
     "output_type": "stream",
     "text": [
      "D's skills\n",
      "C's skills\n",
      "B's skills\n",
      "A's skills\n"
     ]
    }
   ],
   "source": [
    "class A:\n",
    "    def skills(self):\n",
    "        print(\"A's skills\")\n",
    "\n",
    "class B(A):\n",
    "    def skills(self):\n",
    "        print(\"B's skills\")\n",
    "        super().skills()\n",
    "\n",
    "class C(A):\n",
    "    def skills(self):\n",
    "        print(\"C's skills\")\n",
    "        super().skills()\n",
    "\n",
    "class D(C,B):\n",
    "    def skills(self):\n",
    "        print(\"D's skills\")\n",
    "        super().skills()\n",
    "\n",
    "d = D()\n",
    "d.skills()"
   ]
  },
  {
   "cell_type": "markdown",
   "id": "6dcaf2e6-0b15-4b70-b439-624fa1036f6b",
   "metadata": {},
   "source": [
    "# polymorphism"
   ]
  },
  {
   "cell_type": "code",
   "execution_count": null,
   "id": "971e2884-0ede-43b2-9637-9350b0b1750e",
   "metadata": {},
   "outputs": [],
   "source": [
    "class Animal:\n",
    "    def speak(self):\n",
    "        pass\n",
    "\n",
    "class Dog(Animal):\n",
    "    def speak(self):\n",
    "        return \"Woof!\"\n",
    "\n",
    "class Cat(Animal):\n",
    "    def speak(self):\n",
    "        return \"Meow!\"\n",
    "\n",
    "class Duck(Animal):\n",
    "    def speak(self):\n",
    "        return \"Quack!\"\n",
    "\n",
    "# Function to make animals speak\n",
    "def make_speak(animal):\n",
    "    print(animal.speak())\n",
    "\n",
    "# Creating instances of different animals\n",
    "dog = Dog()\n",
    "cat = Cat()\n",
    "duck = Duck()\n",
    "\n",
    "# Using polymorphism to make animals speak\n",
    "make_speak(dog)   # Output: Woof!\n",
    "make_speak(cat)   # Output: Meow!\n",
    "make_speak(duck)  # Output: Quack!\n"
   ]
  }
 ],
 "metadata": {
  "kernelspec": {
   "display_name": "Python 3 (ipykernel)",
   "language": "python",
   "name": "python3"
  },
  "language_info": {
   "codemirror_mode": {
    "name": "ipython",
    "version": 3
   },
   "file_extension": ".py",
   "mimetype": "text/x-python",
   "name": "python",
   "nbconvert_exporter": "python",
   "pygments_lexer": "ipython3",
   "version": "3.10.10"
  }
 },
 "nbformat": 4,
 "nbformat_minor": 5
}
